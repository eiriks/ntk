{
 "cells": [
  {
   "cell_type": "code",
   "execution_count": 64,
   "metadata": {},
   "outputs": [
    {
     "name": "stdout",
     "output_type": "stream",
     "text": [
      "The autoreload extension is already loaded. To reload it, use:\n",
      "  %reload_ext autoreload\n",
      "name_ Eirik len 5 <class 'str'>\n"
     ]
    },
    {
     "data": {
      "text/plain": [
       "AssumedGender(name='Eirik', gender='mann', mode='predictor', assumed_name='Eirik')"
      ]
     },
     "execution_count": 64,
     "metadata": {},
     "output_type": "execute_result"
    },
    {
     "name": "stdout",
     "output_type": "stream",
     "text": [
      "Ulerikka --> Ulerikka\n",
      "name_ Ulerikka len 8 <class 'str'>\n",
      "Finner ingenting i listene, kjør AI\n",
      "resultat av 'Ulerikka':  F\n"
     ]
    },
    {
     "data": {
      "text/plain": [
       "AssumedGender(name='Ulerikka', gender='kvinne', mode='predictor', assumed_name='Ulerikka')"
      ]
     },
     "execution_count": 64,
     "metadata": {},
     "output_type": "execute_result"
    },
    {
     "name": "stdout",
     "output_type": "stream",
     "text": [
      "name_ Ellen len 5 <class 'str'>\n"
     ]
    },
    {
     "data": {
      "text/plain": [
       "AssumedGender(name='Ellen', gender='mann', mode='predictor', assumed_name='Ellen')"
      ]
     },
     "execution_count": 64,
     "metadata": {},
     "output_type": "execute_result"
    }
   ],
   "source": [
    "from IPython.core.interactiveshell import InteractiveShell\n",
    "InteractiveShell.ast_node_interactivity = \"all\"\n",
    "\n",
    "%load_ext autoreload\n",
    "%autoreload 2\n",
    "\n",
    "from praenomen2genus import Genie\n",
    "genie = Genie()\n",
    "import pandas as pd\n",
    "\n",
    "genie.get_gender(\"Eirik\")\n",
    "#(u'Eirik', 'man', 'list_lookup')\n",
    "genie.get_gender(\"Ulerikka\", verbose=True)\n",
    "#(u'Ulerikka', 'kvinne', 'predictor')\n",
    "genie.get_gender(\"Ellen\")"
   ]
  },
  {
   "cell_type": "code",
   "execution_count": null,
   "metadata": {
    "collapsed": true
   },
   "outputs": [],
   "source": []
  },
  {
   "cell_type": "code",
   "execution_count": 4,
   "metadata": {},
   "outputs": [
    {
     "data": {
      "text/html": [
       "<div>\n",
       "<style scoped>\n",
       "    .dataframe tbody tr th:only-of-type {\n",
       "        vertical-align: middle;\n",
       "    }\n",
       "\n",
       "    .dataframe tbody tr th {\n",
       "        vertical-align: top;\n",
       "    }\n",
       "\n",
       "    .dataframe thead th {\n",
       "        text-align: right;\n",
       "    }\n",
       "</style>\n",
       "<table border=\"1\" class=\"dataframe\">\n",
       "  <thead>\n",
       "    <tr style=\"text-align: right;\">\n",
       "      <th></th>\n",
       "      <th>Navn</th>\n",
       "    </tr>\n",
       "    <tr>\n",
       "      <th>Dato</th>\n",
       "      <th></th>\n",
       "    </tr>\n",
       "  </thead>\n",
       "  <tbody>\n",
       "    <tr>\n",
       "      <th>2. januar</th>\n",
       "      <td>Dagfinn og Dagfrid</td>\n",
       "    </tr>\n",
       "    <tr>\n",
       "      <th>3. januar</th>\n",
       "      <td>Alfred og Alf og Alva</td>\n",
       "    </tr>\n",
       "    <tr>\n",
       "      <th>4. januar</th>\n",
       "      <td>Roar og Roger</td>\n",
       "    </tr>\n",
       "    <tr>\n",
       "      <th>5. januar</th>\n",
       "      <td>Hanna og Hanne</td>\n",
       "    </tr>\n",
       "    <tr>\n",
       "      <th>6. januar</th>\n",
       "      <td>Aslaug, Åslaug og Aisha</td>\n",
       "    </tr>\n",
       "  </tbody>\n",
       "</table>\n",
       "</div>"
      ],
      "text/plain": [
       "                              Navn\n",
       "Dato                              \n",
       "2. januar       Dagfinn og Dagfrid\n",
       "3. januar    Alfred og Alf og Alva\n",
       "4. januar            Roar og Roger\n",
       "5. januar           Hanna og Hanne\n",
       "6. januar  Aslaug, Åslaug og Aisha"
      ]
     },
     "execution_count": 4,
     "metadata": {},
     "output_type": "execute_result"
    },
    {
     "name": "stdout",
     "output_type": "stream",
     "text": [
      "jeg burde ha så mange navn: 855\n"
     ]
    }
   ],
   "source": [
    "# Har navnedag\n",
    "url = \"https://no.wikipedia.org/wiki/Liste_over_norske_navnedager\"\n",
    "data = pd.read_html(url, header=0, index_col=0)[0]\n",
    "#data.head()\n",
    "data = data[[\"Navn\"]]\n",
    "data.dropna(subset=['Navn'], how='all', inplace = True) # skip 1.jan, er nan\n",
    "data.head()\n",
    "\n",
    "# | Navn  | dato\n",
    "# | Eirik | 18 mai\n",
    "har_navnedag = []\n",
    "har_navnedag.append([\"Jesus\", \"1. januar\"])\n",
    "\n",
    "rene_navn1 = []\n",
    "\n",
    "for d in data.iterrows():\n",
    "    #print(d[0], type(d[0]))\n",
    "    #print(d[1].Navn)\n",
    "    navn_pr_dag = [n for n in d[1].Navn.replace(\",\",\"\").split() if n.lower() not in [\"og\", \"(navn)\"]]\n",
    "    for n in navn_pr_dag:\n",
    "        har_navnedag.append([n, d[0]])\n",
    "        rene_navn1.append(n)\n",
    "    #print()\n",
    "\n",
    "df = pd.DataFrame.from_records(har_navnedag, columns=[\"Navn\", \"Dato\"])\n",
    "# save only this one scrape\n",
    "#df.to_csv(path_or_buf=\"praenomen2genus/data/har_norsk_navnedag.csv\", sep='\\t', encoding='utf-8', index=False)\n",
    "\n",
    "df.set_index(\"Navn\", inplace=True)\n",
    "#df.head()\n",
    "\n",
    "\n",
    "#    !\n",
    "\n",
    "# pokker finnes enda en liste:\n",
    "url2 = \"https://no.wikipedia.org/wiki/Liste_over_norske_navnedager_sortert_etter_navn\"\n",
    "data2 = pd.read_html(url2, header=0, index_col=0)[0]\n",
    "data2 = data2[[\"Navnedag\"]]\n",
    "data2.columns = [[\"Dato\"]]\n",
    "#data2.head()\n",
    "#data.describe()\n",
    "rene_navn2 = []\n",
    "for nn in data2.iterrows():\n",
    "    rene_navn2.append(nn[0])\n",
    "\n",
    "bare_i_forste = [n for n in rene_navn1 if n not in rene_navn2]\n",
    "bare_i_andre = [n for n in rene_navn2 if n not in rene_navn1]\n",
    "\n",
    "#print(len(bare_i_forste), bare_i_forste)\n",
    "#print(len(bare_i_andre), bare_i_andre)\n",
    "print(\"jeg burde ha så mange navn:\", len(set(rene_navn1+rene_navn2)))\n",
    "\n",
    "\n",
    "# la oss merge disse\n",
    "\n",
    "#result = df.append(data2) #ignore_index=True # blir 1662 rader, virker for mye...\n",
    "#result.describe()\n",
    "#result\n",
    "\n",
    "result2 = pd.merge(df, data2, how=\"outer\", right_index=True, left_index=True) # \n"
   ]
  },
  {
   "cell_type": "code",
   "execution_count": 8,
   "metadata": {},
   "outputs": [
    {
     "data": {
      "text/html": [
       "<div>\n",
       "<style scoped>\n",
       "    .dataframe tbody tr th:only-of-type {\n",
       "        vertical-align: middle;\n",
       "    }\n",
       "\n",
       "    .dataframe tbody tr th {\n",
       "        vertical-align: top;\n",
       "    }\n",
       "\n",
       "    .dataframe thead th {\n",
       "        text-align: right;\n",
       "    }\n",
       "</style>\n",
       "<table border=\"1\" class=\"dataframe\">\n",
       "  <thead>\n",
       "    <tr style=\"text-align: right;\">\n",
       "      <th></th>\n",
       "      <th>Dato</th>\n",
       "      <th>(Dato,)</th>\n",
       "    </tr>\n",
       "    <tr>\n",
       "      <th>Navn</th>\n",
       "      <th></th>\n",
       "      <th></th>\n",
       "    </tr>\n",
       "  </thead>\n",
       "  <tbody>\n",
       "    <tr>\n",
       "      <th>Abraham</th>\n",
       "      <td>20. desember</td>\n",
       "      <td>20. desember</td>\n",
       "    </tr>\n",
       "    <tr>\n",
       "      <th>Ada</th>\n",
       "      <td>4. mars</td>\n",
       "      <td>4. mars</td>\n",
       "    </tr>\n",
       "    <tr>\n",
       "      <th>Adam</th>\n",
       "      <td>24. desember</td>\n",
       "      <td>24. desember</td>\n",
       "    </tr>\n",
       "    <tr>\n",
       "      <th>Adrian</th>\n",
       "      <td>4. mars</td>\n",
       "      <td>4. mars</td>\n",
       "    </tr>\n",
       "    <tr>\n",
       "      <th>Agate</th>\n",
       "      <td>5. februar</td>\n",
       "      <td>5. februar</td>\n",
       "    </tr>\n",
       "  </tbody>\n",
       "</table>\n",
       "</div>"
      ],
      "text/plain": [
       "                 Dato       (Dato,)\n",
       "Navn                               \n",
       "Abraham  20. desember  20. desember\n",
       "Ada           4. mars       4. mars\n",
       "Adam     24. desember  24. desember\n",
       "Adrian        4. mars       4. mars\n",
       "Agate      5. februar    5. februar"
      ]
     },
     "execution_count": 8,
     "metadata": {},
     "output_type": "execute_result"
    },
    {
     "data": {
      "text/plain": [
       "857"
      ]
     },
     "execution_count": 8,
     "metadata": {},
     "output_type": "execute_result"
    }
   ],
   "source": [
    "# clean up multiple datoer...\n",
    "#result2[\"dato\"] = result2[\"Dato\"].fillna(result2[\"Dato,\"]) # trick!\n",
    "#result2 = result2[[\"dato\"]] # clean date please\n",
    "result2.head()\n",
    "\n",
    "\n",
    "\n",
    "len(result2)\n",
    "\n",
    "# lagre...\n",
    "#result2.to_csv(path_or_buf=\"praenomen2genus/data/har_norsk_navnedag.csv\", sep='\\t', encoding='utf-8')#, index=False\n"
   ]
  },
  {
   "cell_type": "code",
   "execution_count": 9,
   "metadata": {},
   "outputs": [
    {
     "ename": "SyntaxError",
     "evalue": "invalid syntax (<ipython-input-9-737a90f017af>, line 8)",
     "output_type": "error",
     "traceback": [
      "\u001b[0;36m  File \u001b[0;32m\"<ipython-input-9-737a90f017af>\"\u001b[0;36m, line \u001b[0;32m8\u001b[0m\n\u001b[0;31m    if\u001b[0m\n\u001b[0m       ^\u001b[0m\n\u001b[0;31mSyntaxError\u001b[0m\u001b[0;31m:\u001b[0m invalid syntax\n"
     ]
    }
   ],
   "source": [
    "begge_kjonn = [\"Gunnleiv\", \"Kim\"]\n",
    "kvinne = [\"Hallgjerd\"]\n",
    "menn = [\"Klement\", \"Clement\", \"Clément\", \"Salve\"]\n",
    "\n",
    "har_navnedag_kjonn = []\n",
    "for row in result2.itertuples():\n",
    "    if genie.get_gender(row.Index)[2] != \"list_lookup\":\n",
    "        if \n",
    "        print(row.Index, genie.get_gender(row.Index))\n",
    "    else:\n",
    "        gender = gender_string(genie.get_gender(row.Index)[2])\n",
    "    \n",
    "    har_navnedag_kjonn.append(gender)\n",
    "\n",
    "har_navnedag = result2"
   ]
  },
  {
   "cell_type": "code",
   "execution_count": 30,
   "metadata": {},
   "outputs": [
    {
     "data": {
      "text/plain": [
       "3176"
      ]
     },
     "execution_count": 30,
     "metadata": {},
     "output_type": "execute_result"
    },
    {
     "data": {
      "text/plain": [
       "1274"
      ]
     },
     "execution_count": 30,
     "metadata": {},
     "output_type": "execute_result"
    },
    {
     "data": {
      "text/plain": [
       "509"
      ]
     },
     "execution_count": 30,
     "metadata": {},
     "output_type": "execute_result"
    },
    {
     "data": {
      "text/html": [
       "<div>\n",
       "<style scoped>\n",
       "    .dataframe tbody tr th:only-of-type {\n",
       "        vertical-align: middle;\n",
       "    }\n",
       "\n",
       "    .dataframe tbody tr th {\n",
       "        vertical-align: top;\n",
       "    }\n",
       "\n",
       "    .dataframe thead th {\n",
       "        text-align: right;\n",
       "    }\n",
       "</style>\n",
       "<table border=\"1\" class=\"dataframe\">\n",
       "  <thead>\n",
       "    <tr style=\"text-align: right;\">\n",
       "      <th></th>\n",
       "      <th>Fornvan</th>\n",
       "      <th>Fullt navn</th>\n",
       "      <th>kjønn</th>\n",
       "    </tr>\n",
       "  </thead>\n",
       "  <tbody>\n",
       "    <tr>\n",
       "      <th>0</th>\n",
       "      <td>Abid</td>\n",
       "      <td>Abid Raja</td>\n",
       "      <td>m</td>\n",
       "    </tr>\n",
       "    <tr>\n",
       "      <th>1</th>\n",
       "      <td>Anja</td>\n",
       "      <td>Anja Ninasdotter Abusland</td>\n",
       "      <td>f</td>\n",
       "    </tr>\n",
       "    <tr>\n",
       "      <th>2</th>\n",
       "      <td>Anna</td>\n",
       "      <td>Anna Molberg</td>\n",
       "      <td>f</td>\n",
       "    </tr>\n",
       "    <tr>\n",
       "      <th>3</th>\n",
       "      <td>Aleksander</td>\n",
       "      <td>Aleksander Stokkebø</td>\n",
       "      <td>m</td>\n",
       "    </tr>\n",
       "    <tr>\n",
       "      <th>4</th>\n",
       "      <td>Alfred</td>\n",
       "      <td>Alfred Jens Bjørlo</td>\n",
       "      <td>m</td>\n",
       "    </tr>\n",
       "  </tbody>\n",
       "</table>\n",
       "</div>"
      ],
      "text/plain": [
       "      Fornvan                 Fullt navn kjønn\n",
       "0        Abid                  Abid Raja     m\n",
       "1        Anja  Anja Ninasdotter Abusland     f\n",
       "2        Anna               Anna Molberg     f\n",
       "3  Aleksander        Aleksander Stokkebø     m\n",
       "4      Alfred         Alfred Jens Bjørlo     m"
      ]
     },
     "execution_count": 30,
     "metadata": {},
     "output_type": "execute_result"
    }
   ],
   "source": []
  },
  {
   "cell_type": "code",
   "execution_count": 51,
   "metadata": {},
   "outputs": [
    {
     "data": {
      "text/plain": [
       "['21-11-02.pickle', '21-11-09.pickle']"
      ]
     },
     "execution_count": 51,
     "metadata": {},
     "output_type": "execute_result"
    },
    {
     "data": {
      "text/plain": [
       "6352"
      ]
     },
     "execution_count": 51,
     "metadata": {},
     "output_type": "execute_result"
    },
    {
     "data": {
      "text/plain": [
       "1274"
      ]
     },
     "execution_count": 51,
     "metadata": {},
     "output_type": "execute_result"
    },
    {
     "data": {
      "text/html": [
       "<div>\n",
       "<style scoped>\n",
       "    .dataframe tbody tr th:only-of-type {\n",
       "        vertical-align: middle;\n",
       "    }\n",
       "\n",
       "    .dataframe tbody tr th {\n",
       "        vertical-align: top;\n",
       "    }\n",
       "\n",
       "    .dataframe thead th {\n",
       "        text-align: right;\n",
       "    }\n",
       "</style>\n",
       "<table border=\"1\" class=\"dataframe\">\n",
       "  <thead>\n",
       "    <tr style=\"text-align: right;\">\n",
       "      <th></th>\n",
       "      <th>Fornvan</th>\n",
       "      <th>Fullt navn</th>\n",
       "      <th>kjønn</th>\n",
       "    </tr>\n",
       "  </thead>\n",
       "  <tbody>\n",
       "    <tr>\n",
       "      <th>1</th>\n",
       "      <td>Anja</td>\n",
       "      <td>Anja Ninasdotter Abusland</td>\n",
       "      <td>kvinne</td>\n",
       "    </tr>\n",
       "    <tr>\n",
       "      <th>2</th>\n",
       "      <td>Anna</td>\n",
       "      <td>Anna Molberg</td>\n",
       "      <td>kvinne</td>\n",
       "    </tr>\n",
       "    <tr>\n",
       "      <th>3</th>\n",
       "      <td>Aleksander</td>\n",
       "      <td>Aleksander Stokkebø</td>\n",
       "      <td>mann</td>\n",
       "    </tr>\n",
       "    <tr>\n",
       "      <th>4</th>\n",
       "      <td>Alfred</td>\n",
       "      <td>Alfred Jens Bjørlo</td>\n",
       "      <td>mann</td>\n",
       "    </tr>\n",
       "    <tr>\n",
       "      <th>5</th>\n",
       "      <td>Anne</td>\n",
       "      <td>Anne Kristine Linnestad</td>\n",
       "      <td>kvinne</td>\n",
       "    </tr>\n",
       "    <tr>\n",
       "      <th>...</th>\n",
       "      <td>...</td>\n",
       "      <td>...</td>\n",
       "      <td>...</td>\n",
       "    </tr>\n",
       "    <tr>\n",
       "      <th>3171</th>\n",
       "      <td>Ulrik</td>\n",
       "      <td>Ulrik Olsen</td>\n",
       "      <td>mann</td>\n",
       "    </tr>\n",
       "    <tr>\n",
       "      <th>3172</th>\n",
       "      <td>Wilhelm</td>\n",
       "      <td>Wilhelm Engel Bredal</td>\n",
       "      <td>mann</td>\n",
       "    </tr>\n",
       "    <tr>\n",
       "      <th>3173</th>\n",
       "      <td>Aldor</td>\n",
       "      <td>Aldor Ingebrigtsen</td>\n",
       "      <td>mann</td>\n",
       "    </tr>\n",
       "    <tr>\n",
       "      <th>3174</th>\n",
       "      <td>Aasmund</td>\n",
       "      <td>Aasmund Kulien</td>\n",
       "      <td>mann</td>\n",
       "    </tr>\n",
       "    <tr>\n",
       "      <th>3175</th>\n",
       "      <td>Aani</td>\n",
       "      <td>Aani Aanisson Rysstad</td>\n",
       "      <td>mann</td>\n",
       "    </tr>\n",
       "  </tbody>\n",
       "</table>\n",
       "<p>1274 rows × 3 columns</p>\n",
       "</div>"
      ],
      "text/plain": [
       "         Fornvan                 Fullt navn   kjønn\n",
       "1           Anja  Anja Ninasdotter Abusland  kvinne\n",
       "2           Anna               Anna Molberg  kvinne\n",
       "3     Aleksander        Aleksander Stokkebø    mann\n",
       "4         Alfred         Alfred Jens Bjørlo    mann\n",
       "5           Anne    Anne Kristine Linnestad  kvinne\n",
       "...          ...                        ...     ...\n",
       "3171       Ulrik                Ulrik Olsen    mann\n",
       "3172     Wilhelm       Wilhelm Engel Bredal    mann\n",
       "3173       Aldor         Aldor Ingebrigtsen    mann\n",
       "3174     Aasmund             Aasmund Kulien    mann\n",
       "3175        Aani      Aani Aanisson Rysstad    mann\n",
       "\n",
       "[1274 rows x 3 columns]"
      ]
     },
     "execution_count": 51,
     "metadata": {},
     "output_type": "execute_result"
    }
   ],
   "source": []
  },
  {
   "cell_type": "code",
   "execution_count": 10,
   "metadata": {},
   "outputs": [
    {
     "data": {
      "text/html": [
       "<div>\n",
       "<style scoped>\n",
       "    .dataframe tbody tr th:only-of-type {\n",
       "        vertical-align: middle;\n",
       "    }\n",
       "\n",
       "    .dataframe tbody tr th {\n",
       "        vertical-align: top;\n",
       "    }\n",
       "\n",
       "    .dataframe thead th {\n",
       "        text-align: right;\n",
       "    }\n",
       "</style>\n",
       "<table border=\"1\" class=\"dataframe\">\n",
       "  <thead>\n",
       "    <tr style=\"text-align: right;\">\n",
       "      <th></th>\n",
       "      <th>Norrønt navn</th>\n",
       "    </tr>\n",
       "    <tr>\n",
       "      <th>Navn</th>\n",
       "      <th></th>\n",
       "    </tr>\n",
       "  </thead>\n",
       "  <tbody>\n",
       "    <tr>\n",
       "      <th>Allvis</th>\n",
       "      <td>Allvís, «den som vet alt»</td>\n",
       "    </tr>\n",
       "    <tr>\n",
       "      <th>Andrimne</th>\n",
       "      <td>Andrimner, «en med sot i ansiktet»</td>\n",
       "    </tr>\n",
       "    <tr>\n",
       "      <th>Andvare</th>\n",
       "      <td>Andvari</td>\n",
       "    </tr>\n",
       "    <tr>\n",
       "      <th>Angerboda</th>\n",
       "      <td>Angrboða, «sorgvarsleren»</td>\n",
       "    </tr>\n",
       "    <tr>\n",
       "      <th>Aurboda</th>\n",
       "      <td>Eirboða</td>\n",
       "    </tr>\n",
       "  </tbody>\n",
       "</table>\n",
       "</div>"
      ],
      "text/plain": [
       "                                 Norrønt navn\n",
       "Navn                                         \n",
       "Allvis              Allvís, «den som vet alt»\n",
       "Andrimne   Andrimner, «en med sot i ansiktet»\n",
       "Andvare                               Andvari\n",
       "Angerboda           Angrboða, «sorgvarsleren»\n",
       "Aurboda                               Eirboða"
      ]
     },
     "execution_count": 10,
     "metadata": {},
     "output_type": "execute_result"
    }
   ],
   "source": [
    "# norrøne navn\n",
    "norr_url = \"https://no.wikipedia.org/wiki/Liste_over_personer_i_norr%C3%B8n_mytologi\"\n",
    "\n",
    "norr = pd.read_html(norr_url, header=0, index_col=0)[0]\n",
    "norr2 = norr[[\"Norrønt navn\"]]\n",
    "\n",
    "norr2.head()\n",
    "#norr2.to_csv(path_or_buf=\"praenomen2genus/data/personer_i_norron_mytologi.csv\", sep='\\t', encoding='utf-8')#\n",
    "personer_i_norron_mytologi = norr2"
   ]
  },
  {
   "cell_type": "code",
   "execution_count": 11,
   "metadata": {},
   "outputs": [
    {
     "ename": "IndexError",
     "evalue": "list index out of range",
     "output_type": "error",
     "traceback": [
      "\u001b[0;31m---------------------------------------------------------------------------\u001b[0m",
      "\u001b[0;31mIndexError\u001b[0m                                Traceback (most recent call last)",
      "\u001b[0;32m<ipython-input-11-d43593653dc6>\u001b[0m in \u001b[0;36m<module>\u001b[0;34m\u001b[0m\n\u001b[1;32m      3\u001b[0m \u001b[0murl2\u001b[0m \u001b[0;34m=\u001b[0m \u001b[0;34m\"https://www.ssb.no/a/magasinet/blandet/tab-2006-02-09-01.html\"\u001b[0m \u001b[0;31m# gutter\u001b[0m\u001b[0;34m\u001b[0m\u001b[0;34m\u001b[0m\u001b[0m\n\u001b[1;32m      4\u001b[0m \u001b[0;34m\u001b[0m\u001b[0m\n\u001b[0;32m----> 5\u001b[0;31m \u001b[0mbibjent\u001b[0m \u001b[0;34m=\u001b[0m \u001b[0mpd\u001b[0m\u001b[0;34m.\u001b[0m\u001b[0mread_html\u001b[0m\u001b[0;34m(\u001b[0m\u001b[0murl1\u001b[0m\u001b[0;34m,\u001b[0m \u001b[0mindex_col\u001b[0m\u001b[0;34m=\u001b[0m\u001b[0;36m0\u001b[0m\u001b[0;34m)\u001b[0m\u001b[0;34m[\u001b[0m\u001b[0;36m1\u001b[0m\u001b[0;34m]\u001b[0m \u001b[0;31m#  header=0, føkket det til..\u001b[0m\u001b[0;34m\u001b[0m\u001b[0;34m\u001b[0m\u001b[0m\n\u001b[0m\u001b[1;32m      6\u001b[0m \u001b[0mbibjent\u001b[0m\u001b[0;34m.\u001b[0m\u001b[0mcolumns\u001b[0m \u001b[0;34m=\u001b[0m \u001b[0;34m[\u001b[0m\u001b[0;34m[\u001b[0m\u001b[0;34m\"Kommentar\"\u001b[0m\u001b[0;34m]\u001b[0m\u001b[0;34m]\u001b[0m\u001b[0;34m\u001b[0m\u001b[0;34m\u001b[0m\u001b[0m\n\u001b[1;32m      7\u001b[0m \u001b[0mbibjent\u001b[0m\u001b[0;34m.\u001b[0m\u001b[0mindex\u001b[0m\u001b[0;34m.\u001b[0m\u001b[0mnames\u001b[0m \u001b[0;34m=\u001b[0m \u001b[0;34m[\u001b[0m\u001b[0;34m'Navn'\u001b[0m\u001b[0;34m]\u001b[0m\u001b[0;34m\u001b[0m\u001b[0;34m\u001b[0m\u001b[0m\n",
      "\u001b[0;31mIndexError\u001b[0m: list index out of range"
     ]
    }
   ],
   "source": [
    "# Bibelske navn\n",
    "url1 = \"https://www.ssb.no/a/magasinet/blandet/tab-2006-02-09-02.html\" # jenter\n",
    "url2 = \"https://www.ssb.no/a/magasinet/blandet/tab-2006-02-09-01.html\" # gutter\n",
    "\n",
    "bibjent = pd.read_html(url1, index_col=0)[1] #  header=0, føkket det til..\n",
    "bibjent.columns = [[\"Kommentar\"]]\n",
    "bibjent.index.names = ['Navn']\n",
    "bibjent.head()\n",
    "\n",
    "bibeljenter = ['Abiah', 'Abigail', 'Abijah', 'Abilene', 'Abishag', 'Abital', 'Adah', 'Adina', 'Apphia', 'Ariel', 'Asenath', 'Ashtoreth', 'Atarah', 'Azubah', 'Basemath', 'Bashemath', 'Basmath', 'Bathsheba', 'Bernice', 'Bethany', 'Bethel', 'Beulah', 'Bilhah', 'Bithiah', 'Candace', 'Carmel', 'Chloe', 'Damaris', 'Deborah', 'Delilah', 'Dinah', 'Dorcas', 'Drusilla', 'Eden', 'Edna', 'Elisabeth', 'Elisheba', 'Elizabeth', 'Esther', 'Eunice', 'Eve', 'Gethsemane', 'Hadassah', 'Hagar', 'Hannah', 'Havilah', 'Helah', 'Hephzibah', 'Hepzibah', 'Hulda', 'Huldah', 'Ivah', 'Jael', 'Jedidah', 'Jemima', 'Jerusha', 'Jezebel', 'Joanna', 'Jordan', 'Judith', 'Julia', 'Keren-happuch', 'Keturah', 'Keziah', 'Leah', 'Lois', 'Lydia', 'Magdalene', 'Mahalath', 'Mahlah', 'Mara', 'Martha', 'Mary', 'Mehetabel', 'Mehitabel', 'Micaiah', 'Michal', 'Miriam', 'Moriah', 'Naamah', 'Naomi', 'Neriah', 'Noa', 'Noah', 'Ophrah', 'Orpah', 'Peninnah', 'Persis', 'Philadelphia', 'Phoebe', 'Prisca', 'Priscilla', 'Rachel', 'Rahab', 'Rebecca', 'Rebekah', 'Rhoda', 'Ruth', 'Salome', 'Sapphira', 'Sarah', 'Sarai', 'Sela', 'Sharon', 'Sherah', 'Shiphrah', 'Susanna', 'Susannah', 'Syntyche', 'Tabitha', 'Talitha', 'Tamar', 'Tirzah', 'Tryphena', 'Tryphosa', 'Vashti', 'Zillah', 'Zilpah', 'Zipporah']\n",
    "for j in bibeljenter:\n",
    "    if j not in bibjent.index:\n",
    "        bibjent.loc[j] = pd.Series({'Kommentar': \"fra liste\"})\n",
    "\n",
    "bibjent[\"Kjønn\"] = \"f\"\n",
    "bibjent.tail()\n",
    "\n",
    "\n",
    "bibgutt = pd.read_html(url2, header=0, index_col=0)[1]\n",
    "bibgutt.columns = [[\"Kommentar\"]]\n",
    "bibgutt.index.names = ['Navn']\n",
    "bibgutt[\"Kjønn\"] = \"m\"\n",
    "bibgutt.head()"
   ]
  },
  {
   "cell_type": "markdown",
   "metadata": {},
   "source": []
  },
  {
   "cell_type": "markdown",
   "metadata": {},
   "source": []
  },
  {
   "cell_type": "code",
   "execution_count": 171,
   "metadata": {
    "collapsed": true
   },
   "outputs": [],
   "source": [
    "# Jødiske navn"
   ]
  },
  {
   "cell_type": "code",
   "execution_count": 173,
   "metadata": {
    "collapsed": true
   },
   "outputs": [],
   "source": [
    "# Populære navn (periodisk oppdatet fra ssb?)\n",
    "# for mange land her: http://www.uib.no/lle/23822/navnestatistikk-fra-mange-land"
   ]
  },
  {
   "cell_type": "code",
   "execution_count": null,
   "metadata": {
    "collapsed": true
   },
   "outputs": [],
   "source": [
    "# Som rimer på\n",
    "# som likner på\n",
    "# som inneholder en \"o\"\n",
    "# som besteforeldrenes generasjon brukte\n",
    "# som olderforeldrenes generasjon brukte\n",
    "# som tip-tip-tip...\n"
   ]
  },
  {
   "cell_type": "code",
   "execution_count": 213,
   "metadata": {},
   "outputs": [],
   "source": [
    "from pandas.io import sql\n",
    "import pymysql\n",
    "def connect():\n",
    "    try:\n",
    "        rdbms_username = 'root'#settings['user']\n",
    "        rdbms_password = 'root'#settings['password']\n",
    "        connection = pymysql.connect(\n",
    "            unix_socket=\"/Applications/MAMP/tmp/mysql/mysql.sock\",\n",
    "            user=rdbms_username,\n",
    "            passwd=rdbms_password,\n",
    "            db=\"navn\", charset='utf8',\n",
    "            autocommit=True)\n",
    "        cur = connection.cursor()\n",
    "        cur.execute(\"USE navn;\")\n",
    "        return connection, cur\n",
    "    except:\n",
    "        print(\"kunne ikke logge på databasen\")\n",
    "\n",
    "\n",
    "def disconnect(connection):\n",
    "    if connection:\n",
    "        connection.close()\n",
    "        print(\"koblet av mysql\")\n",
    "\n",
    "mysql_connection, mysql_cur = connect()\n",
    "#sql = '''SELECT CONCAT(title, \" \", full_text) as text, url, man_clas FROM\n",
    "#nrk2013b_man_vs_mac_tbl WHERE man_clas IS NOT NULL'''\n",
    "#mysql_cur.execute(sql)\n",
    "#rows = mysql_cur.fetchall()\n"
   ]
  },
  {
   "cell_type": "code",
   "execution_count": 284,
   "metadata": {},
   "outputs": [
    {
     "data": {
      "text/html": [
       "<div>\n",
       "<table border=\"1\" class=\"dataframe\">\n",
       "  <thead>\n",
       "    <tr style=\"text-align: right;\">\n",
       "      <th></th>\n",
       "      <th>dato</th>\n",
       "    </tr>\n",
       "    <tr>\n",
       "      <th>Navn</th>\n",
       "      <th></th>\n",
       "    </tr>\n",
       "  </thead>\n",
       "  <tbody>\n",
       "    <tr>\n",
       "      <th>Abraham</th>\n",
       "      <td>20. desember</td>\n",
       "    </tr>\n",
       "    <tr>\n",
       "      <th>Ada</th>\n",
       "      <td>4. mars</td>\n",
       "    </tr>\n",
       "    <tr>\n",
       "      <th>Adam</th>\n",
       "      <td>24. desember</td>\n",
       "    </tr>\n",
       "    <tr>\n",
       "      <th>Adrian</th>\n",
       "      <td>4. mars</td>\n",
       "    </tr>\n",
       "    <tr>\n",
       "      <th>Agate</th>\n",
       "      <td>5. februar</td>\n",
       "    </tr>\n",
       "  </tbody>\n",
       "</table>\n",
       "</div>"
      ],
      "text/plain": [
       "                 dato\n",
       "Navn                 \n",
       "Abraham  20. desember\n",
       "Ada           4. mars\n",
       "Adam     24. desember\n",
       "Adrian        4. mars\n",
       "Agate      5. februar"
      ]
     },
     "execution_count": 284,
     "metadata": {},
     "output_type": "execute_result"
    },
    {
     "data": {
      "text/html": [
       "<div>\n",
       "<table border=\"1\" class=\"dataframe\">\n",
       "  <thead>\n",
       "    <tr style=\"text-align: right;\">\n",
       "      <th></th>\n",
       "      <th>Fornvan</th>\n",
       "      <th>Fullt navn</th>\n",
       "      <th>kjønn</th>\n",
       "    </tr>\n",
       "  </thead>\n",
       "  <tbody>\n",
       "    <tr>\n",
       "      <th>0</th>\n",
       "      <td>Abid</td>\n",
       "      <td>Abid Q. Raja</td>\n",
       "      <td>m</td>\n",
       "    </tr>\n",
       "    <tr>\n",
       "      <th>1</th>\n",
       "      <td>Anna</td>\n",
       "      <td>Anna Ljunggren</td>\n",
       "      <td>f</td>\n",
       "    </tr>\n",
       "    <tr>\n",
       "      <th>2</th>\n",
       "      <td>Audun</td>\n",
       "      <td>Audun Lysbakken</td>\n",
       "      <td>m</td>\n",
       "    </tr>\n",
       "    <tr>\n",
       "      <th>3</th>\n",
       "      <td>Anders</td>\n",
       "      <td>Anders Anundsen</td>\n",
       "      <td>m</td>\n",
       "    </tr>\n",
       "    <tr>\n",
       "      <th>4</th>\n",
       "      <td>Anniken</td>\n",
       "      <td>Anniken Huitfeldt</td>\n",
       "      <td>f</td>\n",
       "    </tr>\n",
       "  </tbody>\n",
       "</table>\n",
       "</div>"
      ],
      "text/plain": [
       "   Fornvan         Fullt navn kjønn\n",
       "0     Abid       Abid Q. Raja     m\n",
       "1     Anna     Anna Ljunggren     f\n",
       "2    Audun    Audun Lysbakken     m\n",
       "3   Anders    Anders Anundsen     m\n",
       "4  Anniken  Anniken Huitfeldt     f"
      ]
     },
     "execution_count": 284,
     "metadata": {},
     "output_type": "execute_result"
    },
    {
     "data": {
      "text/html": [
       "<div>\n",
       "<table border=\"1\" class=\"dataframe\">\n",
       "  <thead>\n",
       "    <tr style=\"text-align: right;\">\n",
       "      <th></th>\n",
       "      <th>Norrønt navn</th>\n",
       "    </tr>\n",
       "    <tr>\n",
       "      <th>Navn</th>\n",
       "      <th></th>\n",
       "    </tr>\n",
       "  </thead>\n",
       "  <tbody>\n",
       "    <tr>\n",
       "      <th>Allvis</th>\n",
       "      <td>Allvís, «den som vet alt»</td>\n",
       "    </tr>\n",
       "    <tr>\n",
       "      <th>Andrimne</th>\n",
       "      <td>Andrimner, «en med sot i ansiktet»</td>\n",
       "    </tr>\n",
       "    <tr>\n",
       "      <th>Andvare</th>\n",
       "      <td>Andvari</td>\n",
       "    </tr>\n",
       "    <tr>\n",
       "      <th>Angerboda</th>\n",
       "      <td>Angrboða, «sorgvarsleren»</td>\n",
       "    </tr>\n",
       "    <tr>\n",
       "      <th>Aurboda</th>\n",
       "      <td>Eirboða</td>\n",
       "    </tr>\n",
       "  </tbody>\n",
       "</table>\n",
       "</div>"
      ],
      "text/plain": [
       "                                 Norrønt navn\n",
       "Navn                                         \n",
       "Allvis              Allvís, «den som vet alt»\n",
       "Andrimne   Andrimner, «en med sot i ansiktet»\n",
       "Andvare                               Andvari\n",
       "Angerboda           Angrboða, «sorgvarsleren»\n",
       "Aurboda                               Eirboða"
      ]
     },
     "execution_count": 284,
     "metadata": {},
     "output_type": "execute_result"
    }
   ],
   "source": [
    "# lagre i db\n",
    "\n",
    "def df2mysql(df, sql_table_name, gender_row=\"Kjønn\"):\n",
    "    mysql_connection, mysql_cur = connect()\n",
    "    #df.to_sql(sql_table_name, mysql_connection, flavor=None, schema=None, if_exists='fail', index=True, index_label=index_label, chunksize=None, dtype=None)\n",
    "    for row in df.iterrows():\n",
    "        #print(row[0], row[1][\"Kjønn\"])\n",
    "        #print()\n",
    "        sql = \"REPLACE INTO `{0}` (`name`, `gender`) VALUES ('{1}', '{2}');\".format(sql_table_name, row[0], row[1][gender_row])        #print(sql)\n",
    "\n",
    "        mysql_cur.execute(sql);\n",
    "    #mysql_cur.commit()\n",
    "\n",
    "#bibjent.head()\n",
    "#bibgutt.head()\n",
    "#df2mysql(bibjent, sql_table_name=\"bibelske\", gender_row=\"Kjønn\")    \n",
    "#df2mysql(bibgutt, sql_table_name=\"bibelske\", gender_row=\"Kjønn\")    \n",
    "\n",
    "har_navnedag.head()\n",
    "#df2mysql(bibgutt, sql_table_name=\"bibelske\", gender_row=\"Kjønn\")    \n",
    "\n",
    "\n",
    "stortingsrepresentantnavn.head()\n",
    "personer_i_norron_mytologi.head()\n"
   ]
  },
  {
   "cell_type": "code",
   "execution_count": null,
   "metadata": {
    "collapsed": true
   },
   "outputs": [],
   "source": []
  }
 ],
 "metadata": {
  "interpreter": {
   "hash": "f0e2ea01bd33f26cc744c5ad7e2be103241be5e8a6903fb841a3bd29e21386e2"
  },
  "kernelspec": {
   "display_name": "Python 3.9.0 64-bit ('3.9.0': pyenv)",
   "name": "python3"
  },
  "language_info": {
   "codemirror_mode": {
    "name": "ipython",
    "version": 3
   },
   "file_extension": ".py",
   "mimetype": "text/x-python",
   "name": "python",
   "nbconvert_exporter": "python",
   "pygments_lexer": "ipython3",
   "version": "3.9.0"
  }
 },
 "nbformat": 4,
 "nbformat_minor": 2
}
